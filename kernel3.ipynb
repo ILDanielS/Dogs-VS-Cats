{
 "cells": [
  {
   "cell_type": "markdown",
   "metadata": {
    "_uuid": "8c8354a2b0b3912d89dec4b26bbae7be864a1ef4"
   },
   "source": [
    "# Intro\n",
    "In this notebook I am going to explore the data a little bit.\n",
    "The competition goal is to give probability estimation to if an image contains a cat or a dog.\n",
    "The content score is measured by by LogLoss, where\n",
    "* y=1 -> dog\n",
    "* y=0 -> cat\n",
    "\n",
    "We will try to minimize the score\n",
    "      "
   ]
  },
  {
   "cell_type": "markdown",
   "metadata": {
    "_uuid": "40714128a628b385e65eb9f593ce6d8b289cdcd9"
   },
   "source": [
    "# Preprocess the data"
   ]
  },
  {
   "cell_type": "code",
   "execution_count": 1,
   "metadata": {
    "_uuid": "004394ca442bbbf522796312e0ed1e605745933d"
   },
   "outputs": [],
   "source": [
    "import pandas as pd\n",
    "import numpy as np\n",
    "import matplotlib.pyplot as plt\n",
    "import os, cv2\n",
    "from sklearn.model_selection import train_test_split\n",
    "from tensorflow.keras.callbacks import ModelCheckpoint\n",
    "from tensorflow.keras.utils import to_categorical\n",
    "from tensorflow.keras.models import Sequential\n",
    "from tensorflow.keras.layers import Conv2D, MaxPool2D, Dropout, Flatten, Dense\n",
    "from tensorflow.keras.optimizers import SGD, Adam\n",
    "from tensorflow.keras import regularizers\n",
    "from tensorflow.keras.preprocessing.image import ImageDataGenerator\n",
    "from tqdm import tqdm      # a nice pretty percentage bar for tasks.\n",
    "from random import shuffle"
   ]
  },
  {
   "cell_type": "markdown",
   "metadata": {
    "_uuid": "10df0e18d3d231f1101fe3fb8ce7fdf36940bed0"
   },
   "source": [
    " Creating lists of image file names for both cats and dogs"
   ]
  },
  {
   "cell_type": "code",
   "execution_count": 2,
   "metadata": {
    "_uuid": "3f15e6b9978315d7ed089330dc7af48eb62ec81e"
   },
   "outputs": [],
   "source": [
    "TRAIN_DIR = '../input/train/' \n",
    "TEST_DIR = '../input/test/'\n",
    "\n",
    "image_list = [TRAIN_DIR+i for i in os.listdir(TRAIN_DIR)] \n",
    "dog_image_list = [TRAIN_DIR+i for i in os.listdir(TRAIN_DIR) if 'dog' in i]\n",
    "cat_image_list = [TRAIN_DIR+i for i in os.listdir(TRAIN_DIR) if 'cat' in i]\n",
    "test_image_list = [TEST_DIR+i for i in os.listdir(TEST_DIR)]\n",
    "\n",
    "shuffle(dog_image_list)\n",
    "shuffle(cat_image_list)"
   ]
  },
  {
   "cell_type": "code",
   "execution_count": 3,
   "metadata": {
    "_uuid": "fb90f94e03922a749fb4283b7e2140a46a4fb66a"
   },
   "outputs": [
    {
     "name": "stdout",
     "output_type": "stream",
     "text": [
      "Total images:\t 25000 \n",
      "Dog Images:\t 12500 \n",
      "Cat Images:\t 12500 \n",
      "TestImages:\t 12500\n"
     ]
    }
   ],
   "source": [
    "print('Total images:\\t',len(image_list),\n",
    "      '\\nDog Images:\\t',len(dog_image_list),\n",
    "      '\\nCat Images:\\t',len(cat_image_list),\n",
    "      '\\nTestImages:\\t',len(test_image_list))"
   ]
  },
  {
   "cell_type": "markdown",
   "metadata": {
    "_uuid": "41125353e491da10cd24c8862b194307311ed660"
   },
   "source": [
    "We can see that there is equal number of images to cats and dogs\n",
    "\n",
    "Now we are going to load the images and resize them to 64x64x3"
   ]
  },
  {
   "cell_type": "code",
   "execution_count": 4,
   "metadata": {
    "_uuid": "044571d70e4f923c42fc618ec12ba552273c0b57"
   },
   "outputs": [],
   "source": [
    "ROWS = 64\n",
    "COLS = 64\n",
    "CHANNELS = 3\n",
    "\n",
    "def load_image(file_path, size=(ROWS,COLS)):\n",
    "    img = cv2.imread(file_path, cv2.IMREAD_COLOR)\n",
    "    b,g,r = cv2.split(img)\n",
    "    rgb_img = cv2.merge([r,g,b])\n",
    "    return cv2.resize(rgb_img, (ROWS,COLS))\n",
    "    \n",
    "\n",
    "def load_image_list(file_list, ret_labels=True, num_of_img=12500):\n",
    "#     count = len(file_list)\n",
    "    data = np.ndarray((num_of_img, ROWS, COLS, CHANNELS), dtype=np.uint8)\n",
    "    labels = []\n",
    "    \n",
    "    for i, image_name in tqdm(enumerate(file_list)):\n",
    "        if i >= num_of_img:\n",
    "            break\n",
    "        data[i] = load_image(image_name)\n",
    "        if ret_labels:\n",
    "            if 'dog' in image_name:\n",
    "                labels.append(1)\n",
    "            else:\n",
    "                labels.append(0)\n",
    "    return data, labels\n",
    "\n",
    "def matrix_divide_by_chunks(matrix, chunk_size):\n",
    "    for i in range(chunk_size):\n",
    "        matrix[(chunk_size*i):(chunk_size*(i+1))] = matrix[(chunk_size*i):(chunk_size*(i+1))] / 255.0\n",
    "#     org_flat_mat = matrix.flatten()\n",
    "#     final_matrix = np.zeros(shape=org_flat_mat.shape)\n",
    "    \n",
    "#     for i in range(chunk_size):\n",
    "#         final_matrix = org_flat_mat[i*chunk_size:(i+1)*chunk_size] / 255.0\n",
    "    \n",
    "#     return final_matrix.reshape(matrix.shape)\n",
    "        \n",
    "    "
   ]
  },
  {
   "cell_type": "code",
   "execution_count": 5,
   "metadata": {
    "_uuid": "68f1db10b97b4eaee2b2d2e1c82142fcc7c5064c"
   },
   "outputs": [
    {
     "name": "stdout",
     "output_type": "stream",
     "text": [
      "Loading Dogs' Images...\n"
     ]
    },
    {
     "name": "stderr",
     "output_type": "stream",
     "text": [
      "12500it [00:40, 310.28it/s]\n"
     ]
    },
    {
     "name": "stdout",
     "output_type": "stream",
     "text": [
      "Loading Cats' Images...\n"
     ]
    },
    {
     "name": "stderr",
     "output_type": "stream",
     "text": [
      "12500it [00:38, 325.40it/s]\n"
     ]
    }
   ],
   "source": [
    "IMG_NUM = 12500\n",
    "\n",
    "print(\"Loading Dogs' Images...\")\n",
    "dog_data_images, dog_data_labels = load_image_list(dog_image_list, num_of_img=IMG_NUM)\n",
    "dog_train_images, dog_val_images, dog_train_labels, dog_val_labels = train_test_split(dog_data_images, dog_data_labels,\n",
    "                                                    test_size=0.2, random_state=2)\n",
    "\n",
    "\n",
    "print(\"Loading Cats' Images...\")\n",
    "cat_data_images, cat_data_labels = load_image_list(cat_image_list, num_of_img=IMG_NUM)\n",
    "cat_train_images, cat_val_images, cat_train_labels, cat_val_labels = train_test_split(cat_data_images, cat_data_labels,\n",
    "                                                   test_size=0.2, random_state=2)\n",
    "\n",
    "train_data = np.concatenate((dog_train_images, cat_train_images), axis=0)\n",
    "train_labels = dog_train_labels + cat_train_labels\n",
    "# train_labels = to_categorical(train_labels, num_classes=2)\n",
    "\n",
    "val_data = np.concatenate((dog_val_images, cat_val_images), axis=0)\n",
    "val_labels = dog_val_labels + cat_val_labels\n",
    "# val_labels = to_categorical(val_labels, num_classes=2)"
   ]
  },
  {
   "cell_type": "code",
   "execution_count": 6,
   "metadata": {
    "_uuid": "3497f5ebdec747b09203aa384540821907373310"
   },
   "outputs": [
    {
     "name": "stdout",
     "output_type": "stream",
     "text": [
      "Training data shape: (20000, 64, 64, 3)\n",
      "Labels length: 20000\n"
     ]
    }
   ],
   "source": [
    "# Normalize the data\n",
    "# matrix_divide_by_chunks(train_data, 1000)\n",
    "# matrix_divide_by_chunks(val_data, 1000)\n",
    "# train_data = np.true_divide(train_data,1000)\n",
    "train_data = train_data / 255.0\n",
    "val_data = val_data / 255.0\n",
    "\n",
    "print (\"Training data shape: {}\".format(train_data.shape))\n",
    "print (\"Labels length: {}\".format(len(train_labels)))"
   ]
  },
  {
   "cell_type": "markdown",
   "metadata": {
    "_uuid": "0e208359076406ccdc54992d37b1070e2e0bb47a"
   },
   "source": [
    "## Lets show some images\n",
    "sum dogs images"
   ]
  },
  {
   "cell_type": "code",
   "execution_count": 7,
   "metadata": {
    "_uuid": "148cb0e5c7184d0b8675ff095eaf7b80e99d7116"
   },
   "outputs": [
    {
     "data": {
      "text/plain": [
       "<matplotlib.image.AxesImage at 0x15134d42470>"
      ]
     },
     "execution_count": 7,
     "metadata": {},
     "output_type": "execute_result"
    },
    {
     "data": {
      "image/png": "[encoded data removed]",
      "text/plain": [
       "<matplotlib.figure.Figure at 0x1510ddf8128>"
      ]
     },
     "metadata": {},
     "output_type": "display_data"
    }
   ],
   "source": [
    "f, axarr = plt.subplots(2,2)\n",
    "axarr[0,0].imshow(train_data[0])\n",
    "axarr[0,1].imshow(train_data[1])\n",
    "axarr[1,0].imshow(train_data[2])\n",
    "axarr[1,1].imshow(train_data[3])"
   ]
  },
  {
   "cell_type": "markdown",
   "metadata": {
    "_uuid": "7baa592046cc21a84c53f29ec57eccf8f522b180"
   },
   "source": [
    "Some cats Images"
   ]
  },
  {
   "cell_type": "code",
   "execution_count": 8,
   "metadata": {
    "_uuid": "e5888fe034a6f0b494414db53b68b1864c5d3627"
   },
   "outputs": [
    {
     "data": {
      "image/png": "[encoded data removed]",
      "text/plain": [
       "<matplotlib.figure.Figure at 0x15134d982b0>"
      ]
     },
     "metadata": {},
     "output_type": "display_data"
    }
   ],
   "source": [
    "f, axarr = plt.subplots(2,2)\n",
    "axarr[0,0].imshow(train_data[1000])\n",
    "axarr[0,1].imshow(train_data[1001])\n",
    "axarr[1,0].imshow(train_data[1002])\n",
    "axarr[1,1].imshow(train_data[1003])\n",
    "plt.show()"
   ]
  },
  {
   "cell_type": "markdown",
   "metadata": {
    "_uuid": "e3e1992923b0db9fc99da517da4e060d17d48b9f"
   },
   "source": [
    "We will generate more data to prevent the model from overffiting"
   ]
  },
  {
   "cell_type": "code",
   "execution_count": 9,
   "metadata": {
    "_uuid": "5f36e69402295e111f76a3b30222c19ca44a25cf"
   },
   "outputs": [],
   "source": [
    "datagen = ImageDataGenerator(\n",
    "    featurewise_center=True,\n",
    "    featurewise_std_normalization=True,\n",
    "    rotation_range=20,\n",
    "    width_shift_range=0.2,\n",
    "    height_shift_range=0.2,\n",
    "    horizontal_flip=True)\n",
    "\n",
    "datagen.fit(train_data)\n"
   ]
  },
  {
   "cell_type": "markdown",
   "metadata": {
    "_uuid": "acc8e682441b70e425f2fbbd59f19ebbaa7d657e"
   },
   "source": [
    "# Building simple classifier\n",
    "\n",
    "We are going to build a deep network for this task using keras and tensorflow."
   ]
  },
  {
   "cell_type": "code",
   "execution_count": 12,
   "metadata": {
    "_uuid": "0b9846f00b5fe229a62fd341ec0281426cf3d9b6"
   },
   "outputs": [],
   "source": [
    "regl2 = regularizers.l2(0.01)\n",
    "\n",
    "model = Sequential()\n",
    "\n",
    "# BLOC 1\n",
    "model.add(Conv2D(filters=32, kernel_size=(4,4), padding='Same', activation='relu', input_shape=(ROWS,COLS,CHANNELS)))\n",
    "model.add(Conv2D(filters=32, kernel_size=(4,4), padding='Same', activation='relu'))\n",
    "# model.add(Conv2D(filters=32, kernel_size=(4,4), padding='Same', activation='relu'))\n",
    "model.add(MaxPool2D(pool_size=(2,2)))\n",
    "model.add(Dropout(rate=0.5))\n",
    "\n",
    "# BLOC 2\n",
    "model.add(Conv2D(filters=64, kernel_size=(4,4), padding='Same', activation='relu'))\n",
    "model.add(Conv2D(filters=64, kernel_size=(4,4), padding='Same', activation='relu'))\n",
    "# model.add(Conv2D(filters=64, kernel_size=(4,4), padding='Same', activation='relu'))\n",
    "model.add(MaxPool2D(pool_size=(2,2)))\n",
    "model.add(Dropout(rate=0.5))\n",
    "\n",
    "# BLOC 3\n",
    "model.add(Conv2D(filters=128, kernel_size=(4,4), padding='Same', activation='relu'))\n",
    "model.add(Conv2D(filters=128, kernel_size=(4,4), padding='Same', activation='relu'))\n",
    "model.add(MaxPool2D(pool_size=(2,2)))\n",
    "model.add(Dropout(rate=0.5))\n",
    "\n",
    "# BLOC 4 size of 16x16\n",
    "model.add(Flatten())\n",
    "# model.add(Dense(1024, activation='relu', kernel_regularizer=regl2))\n",
    "model.add(Dense(16*16, activation='relu'))\n",
    "model.add(Dense(16*16, activation='relu'))\n",
    "model.add(Dense(1, activation='sigmoid')) # check if we could use softmax function instead\n",
    "optimizer = SGD(lr=0.03)\n",
    "#optimizer = Adam()\n",
    "\n",
    "\n",
    "epochs = 80\n",
    "\n",
    "batch_size = 150\n",
    "\n",
    "model.compile(optimizer=optimizer, loss=\"binary_crossentropy\",\n",
    "              metrics=[\"accuracy\"])\n"
   ]
  },
  {
   "cell_type": "code",
   "execution_count": 13,
   "metadata": {
    "_uuid": "076108ca9101a97ec985de1e1b8780c0faafc394",
    "scrolled": false
   },
   "outputs": [
    {
     "name": "stdout",
     "output_type": "stream",
     "text": [
      "Epoch 1/80\n",
      "\n",
      "Epoch 00001: val_loss improved from inf to 0.69213, saving model to cat_dog_best_reg3_v3\n",
      " - 30s - loss: 0.6917 - acc: 0.5239 - val_loss: 0.6921 - val_acc: 0.5358\n",
      "Epoch 2/80\n",
      "\n",
      "Epoch 00002: val_loss improved from 0.69213 to 0.69165, saving model to cat_dog_best_reg3_v3\n",
      " - 25s - loss: 0.6865 - acc: 0.5519 - val_loss: 0.6916 - val_acc: 0.5000\n",
      "Epoch 3/80\n",
      "\n",
      "Epoch 00003: val_loss did not improve from 0.69165\n",
      " - 26s - loss: 0.6751 - acc: 0.5814 - val_loss: 0.6948 - val_acc: 0.5002\n",
      "Epoch 4/80\n",
      "\n",
      "Epoch 00004: val_loss did not improve from 0.69165\n",
      " - 26s - loss: 0.6598 - acc: 0.6091 - val_loss: 0.6940 - val_acc: 0.5036\n",
      "Epoch 5/80\n",
      "\n",
      "Epoch 00005: val_loss improved from 0.69165 to 0.69075, saving model to cat_dog_best_reg3_v3\n",
      " - 26s - loss: 0.6504 - acc: 0.6222 - val_loss: 0.6907 - val_acc: 0.5134\n",
      "Epoch 6/80\n",
      "\n",
      "Epoch 00006: val_loss improved from 0.69075 to 0.68391, saving model to cat_dog_best_reg3_v3\n",
      " - 25s - loss: 0.6423 - acc: 0.6370 - val_loss: 0.6839 - val_acc: 0.5752\n",
      "Epoch 7/80\n",
      "\n",
      "Epoch 00007: val_loss improved from 0.68391 to 0.68383, saving model to cat_dog_best_reg3_v3\n",
      " - 25s - loss: 0.6302 - acc: 0.6476 - val_loss: 0.6838 - val_acc: 0.5680\n",
      "Epoch 8/80\n",
      "\n",
      "Epoch 00008: val_loss did not improve from 0.68383\n",
      " - 25s - loss: 0.6203 - acc: 0.6599 - val_loss: 0.6976 - val_acc: 0.5008\n",
      "Epoch 9/80\n",
      "\n",
      "Epoch 00009: val_loss did not improve from 0.68383\n",
      " - 25s - loss: 0.6147 - acc: 0.6641 - val_loss: 0.6957 - val_acc: 0.5036\n",
      "Epoch 10/80\n",
      "\n",
      "Epoch 00010: val_loss did not improve from 0.68383\n",
      " - 25s - loss: 0.6048 - acc: 0.6755 - val_loss: 0.6955 - val_acc: 0.5126\n",
      "Epoch 11/80\n",
      "\n",
      "Epoch 00011: val_loss improved from 0.68383 to 0.68190, saving model to cat_dog_best_reg3_v3\n",
      " - 26s - loss: 0.5958 - acc: 0.6857 - val_loss: 0.6819 - val_acc: 0.5430\n",
      "Epoch 12/80\n",
      "\n",
      "Epoch 00012: val_loss did not improve from 0.68190\n",
      " - 25s - loss: 0.5837 - acc: 0.6936 - val_loss: 0.6928 - val_acc: 0.5222\n",
      "Epoch 13/80\n",
      "\n",
      "Epoch 00013: val_loss did not improve from 0.68190\n",
      " - 25s - loss: 0.6001 - acc: 0.6818 - val_loss: 0.6933 - val_acc: 0.5028\n",
      "Epoch 14/80\n",
      "\n",
      "Epoch 00014: val_loss did not improve from 0.68190\n",
      " - 25s - loss: 0.5769 - acc: 0.7006 - val_loss: 0.7240 - val_acc: 0.5168\n",
      "Epoch 15/80\n",
      "\n",
      "Epoch 00015: val_loss did not improve from 0.68190\n",
      " - 25s - loss: 0.5676 - acc: 0.7082 - val_loss: 0.7445 - val_acc: 0.5064\n",
      "Epoch 16/80\n",
      "\n",
      "Epoch 00016: val_loss did not improve from 0.68190\n",
      " - 25s - loss: 0.5637 - acc: 0.7062 - val_loss: 0.7489 - val_acc: 0.5142\n",
      "Epoch 17/80\n",
      "\n",
      "Epoch 00017: val_loss did not improve from 0.68190\n",
      " - 25s - loss: 0.5577 - acc: 0.7157 - val_loss: 0.7658 - val_acc: 0.5030\n",
      "Epoch 18/80\n",
      "\n",
      "Epoch 00018: val_loss did not improve from 0.68190\n",
      " - 25s - loss: 0.5510 - acc: 0.7208 - val_loss: 0.7061 - val_acc: 0.5516\n",
      "Epoch 19/80\n",
      "\n",
      "Epoch 00019: val_loss did not improve from 0.68190\n",
      " - 25s - loss: 0.5405 - acc: 0.7270 - val_loss: 0.7918 - val_acc: 0.5070\n",
      "Epoch 20/80\n",
      "\n",
      "Epoch 00020: val_loss did not improve from 0.68190\n",
      " - 25s - loss: 0.5408 - acc: 0.7268 - val_loss: 0.7363 - val_acc: 0.5244\n",
      "Epoch 21/80\n",
      "\n",
      "Epoch 00021: val_loss did not improve from 0.68190\n",
      " - 25s - loss: 0.5305 - acc: 0.7304 - val_loss: 0.7600 - val_acc: 0.5126\n",
      "Epoch 22/80\n",
      "\n",
      "Epoch 00022: val_loss did not improve from 0.68190\n",
      " - 25s - loss: 0.5272 - acc: 0.7391 - val_loss: 0.7211 - val_acc: 0.5332\n",
      "Epoch 23/80\n",
      "\n",
      "Epoch 00023: val_loss did not improve from 0.68190\n",
      " - 25s - loss: 0.5241 - acc: 0.7377 - val_loss: 0.8037 - val_acc: 0.5044\n",
      "Epoch 24/80\n",
      "\n",
      "Epoch 00024: val_loss did not improve from 0.68190\n",
      " - 25s - loss: 0.5251 - acc: 0.7394 - val_loss: 0.8378 - val_acc: 0.5122\n",
      "Epoch 25/80\n",
      "\n",
      "Epoch 00025: val_loss did not improve from 0.68190\n",
      " - 25s - loss: 0.5164 - acc: 0.7468 - val_loss: 0.7363 - val_acc: 0.5500\n",
      "Epoch 26/80\n",
      "\n",
      "Epoch 00026: val_loss did not improve from 0.68190\n",
      " - 25s - loss: 0.5103 - acc: 0.7486 - val_loss: 0.7903 - val_acc: 0.5166\n",
      "Epoch 27/80\n",
      "\n",
      "Epoch 00027: val_loss did not improve from 0.68190\n",
      " - 25s - loss: 0.5075 - acc: 0.7513 - val_loss: 0.8306 - val_acc: 0.5090\n",
      "Epoch 28/80\n",
      "\n",
      "Epoch 00028: val_loss did not improve from 0.68190\n",
      " - 25s - loss: 0.5079 - acc: 0.7527 - val_loss: 0.7676 - val_acc: 0.5242\n",
      "Epoch 29/80\n",
      "\n",
      "Epoch 00029: val_loss did not improve from 0.68190\n",
      " - 25s - loss: 0.5019 - acc: 0.7524 - val_loss: 0.7459 - val_acc: 0.5194\n",
      "Epoch 30/80\n",
      "\n",
      "Epoch 00030: val_loss did not improve from 0.68190\n",
      " - 25s - loss: 0.4969 - acc: 0.7593 - val_loss: 0.6887 - val_acc: 0.5504\n",
      "Epoch 31/80\n",
      "\n",
      "Epoch 00031: val_loss did not improve from 0.68190\n",
      " - 25s - loss: 0.4947 - acc: 0.7599 - val_loss: 0.8509 - val_acc: 0.5114\n",
      "Epoch 32/80\n",
      "\n",
      "Epoch 00032: val_loss did not improve from 0.68190\n",
      " - 25s - loss: 0.4887 - acc: 0.7661 - val_loss: 0.8312 - val_acc: 0.5366\n",
      "Epoch 33/80\n",
      "\n",
      "Epoch 00033: val_loss did not improve from 0.68190\n",
      " - 25s - loss: 0.4898 - acc: 0.7656 - val_loss: 0.8399 - val_acc: 0.5166\n",
      "Epoch 34/80\n",
      "\n",
      "Epoch 00034: val_loss did not improve from 0.68190\n",
      " - 25s - loss: 0.4906 - acc: 0.7653 - val_loss: 0.9631 - val_acc: 0.5024\n",
      "Epoch 35/80\n",
      "\n",
      "Epoch 00035: val_loss did not improve from 0.68190\n",
      " - 25s - loss: 0.4782 - acc: 0.7714 - val_loss: 0.8446 - val_acc: 0.5138\n",
      "Epoch 36/80\n",
      "\n",
      "Epoch 00036: val_loss did not improve from 0.68190\n",
      " - 25s - loss: 0.4778 - acc: 0.7740 - val_loss: 0.8103 - val_acc: 0.5282\n",
      "Epoch 37/80\n",
      "\n",
      "Epoch 00037: val_loss did not improve from 0.68190\n",
      " - 25s - loss: 0.4795 - acc: 0.7710 - val_loss: 0.8174 - val_acc: 0.5330\n",
      "Epoch 38/80\n",
      "\n",
      "Epoch 00038: val_loss did not improve from 0.68190\n",
      " - 25s - loss: 0.4718 - acc: 0.7736 - val_loss: 0.8731 - val_acc: 0.5146\n",
      "Epoch 39/80\n",
      "\n",
      "Epoch 00039: val_loss did not improve from 0.68190\n",
      " - 25s - loss: 0.4704 - acc: 0.7775 - val_loss: 0.9077 - val_acc: 0.5128\n",
      "Epoch 40/80\n",
      "\n",
      "Epoch 00040: val_loss did not improve from 0.68190\n",
      " - 25s - loss: 0.4720 - acc: 0.7750 - val_loss: 0.8599 - val_acc: 0.5102\n",
      "Epoch 41/80\n",
      "\n",
      "Epoch 00041: val_loss did not improve from 0.68190\n",
      " - 25s - loss: 0.4649 - acc: 0.7823 - val_loss: 0.8850 - val_acc: 0.5198\n",
      "Epoch 42/80\n",
      "\n",
      "Epoch 00042: val_loss did not improve from 0.68190\n",
      " - 25s - loss: 0.4581 - acc: 0.7825 - val_loss: 0.9184 - val_acc: 0.5106\n",
      "Epoch 43/80\n",
      "\n",
      "Epoch 00043: val_loss did not improve from 0.68190\n",
      " - 25s - loss: 0.4604 - acc: 0.7813 - val_loss: 0.9601 - val_acc: 0.5076\n",
      "Epoch 44/80\n",
      "\n",
      "Epoch 00044: val_loss did not improve from 0.68190\n",
      " - 25s - loss: 0.4562 - acc: 0.7841 - val_loss: 0.9111 - val_acc: 0.5066\n",
      "Epoch 45/80\n",
      "\n",
      "Epoch 00045: val_loss did not improve from 0.68190\n",
      " - 25s - loss: 0.4498 - acc: 0.7883 - val_loss: 0.8782 - val_acc: 0.5176\n",
      "Epoch 46/80\n",
      "\n",
      "Epoch 00046: val_loss did not improve from 0.68190\n",
      " - 25s - loss: 0.4500 - acc: 0.7901 - val_loss: 0.9844 - val_acc: 0.5082\n",
      "Epoch 47/80\n",
      "\n",
      "Epoch 00047: val_loss did not improve from 0.68190\n",
      " - 25s - loss: 0.4468 - acc: 0.7904 - val_loss: 0.8908 - val_acc: 0.5236\n",
      "Epoch 48/80\n",
      "\n",
      "Epoch 00048: val_loss did not improve from 0.68190\n",
      " - 25s - loss: 0.4437 - acc: 0.7918 - val_loss: 0.9281 - val_acc: 0.5172\n",
      "Epoch 49/80\n",
      "\n",
      "Epoch 00049: val_loss did not improve from 0.68190\n",
      " - 25s - loss: 0.4462 - acc: 0.7913 - val_loss: 0.8614 - val_acc: 0.5136\n",
      "Epoch 50/80\n",
      "\n",
      "Epoch 00050: val_loss did not improve from 0.68190\n",
      " - 25s - loss: 0.4431 - acc: 0.7952 - val_loss: 0.8022 - val_acc: 0.5198\n",
      "Epoch 51/80\n",
      "\n",
      "Epoch 00051: val_loss did not improve from 0.68190\n",
      " - 25s - loss: 0.4410 - acc: 0.7951 - val_loss: 0.9262 - val_acc: 0.5104\n",
      "Epoch 52/80\n",
      "\n",
      "Epoch 00052: val_loss did not improve from 0.68190\n",
      " - 25s - loss: 0.4355 - acc: 0.7961 - val_loss: 0.9938 - val_acc: 0.5058\n",
      "Epoch 53/80\n",
      "\n",
      "Epoch 00053: val_loss did not improve from 0.68190\n",
      " - 25s - loss: 0.4340 - acc: 0.7955 - val_loss: 0.8669 - val_acc: 0.5234\n",
      "Epoch 54/80\n",
      "\n",
      "Epoch 00054: val_loss did not improve from 0.68190\n",
      " - 25s - loss: 0.4300 - acc: 0.8014 - val_loss: 1.0162 - val_acc: 0.5108\n",
      "Epoch 55/80\n",
      "\n",
      "Epoch 00055: val_loss did not improve from 0.68190\n",
      " - 25s - loss: 0.4284 - acc: 0.8038 - val_loss: 0.8266 - val_acc: 0.5324\n",
      "Epoch 56/80\n",
      "\n",
      "Epoch 00056: val_loss did not improve from 0.68190\n",
      " - 25s - loss: 0.4278 - acc: 0.7990 - val_loss: 0.8708 - val_acc: 0.5152\n",
      "Epoch 57/80\n",
      "\n",
      "Epoch 00057: val_loss did not improve from 0.68190\n",
      " - 25s - loss: 0.4212 - acc: 0.8066 - val_loss: 0.9107 - val_acc: 0.5050\n",
      "Epoch 58/80\n",
      "\n",
      "Epoch 00058: val_loss did not improve from 0.68190\n",
      " - 25s - loss: 0.4204 - acc: 0.8058 - val_loss: 0.8709 - val_acc: 0.5128\n"
     ]
    },
    {
     "name": "stdout",
     "output_type": "stream",
     "text": [
      "Epoch 59/80\n",
      "\n",
      "Epoch 00059: val_loss did not improve from 0.68190\n",
      " - 26s - loss: 0.4236 - acc: 0.8019 - val_loss: 0.8717 - val_acc: 0.5096\n",
      "Epoch 60/80\n",
      "\n",
      "Epoch 00060: val_loss did not improve from 0.68190\n",
      " - 27s - loss: 0.4177 - acc: 0.8082 - val_loss: 0.9517 - val_acc: 0.5118\n",
      "Epoch 61/80\n",
      "\n",
      "Epoch 00061: val_loss did not improve from 0.68190\n",
      " - 26s - loss: 0.4097 - acc: 0.8121 - val_loss: 0.9733 - val_acc: 0.5100\n",
      "Epoch 62/80\n",
      "\n",
      "Epoch 00062: val_loss did not improve from 0.68190\n",
      " - 25s - loss: 0.4134 - acc: 0.8094 - val_loss: 0.8623 - val_acc: 0.5164\n",
      "Epoch 63/80\n",
      "\n",
      "Epoch 00063: val_loss did not improve from 0.68190\n",
      " - 25s - loss: 0.4063 - acc: 0.8110 - val_loss: 0.9805 - val_acc: 0.5022\n",
      "Epoch 64/80\n",
      "\n",
      "Epoch 00064: val_loss did not improve from 0.68190\n",
      " - 25s - loss: 0.4099 - acc: 0.8122 - val_loss: 0.9727 - val_acc: 0.5068\n",
      "Epoch 65/80\n",
      "\n",
      "Epoch 00065: val_loss did not improve from 0.68190\n",
      " - 25s - loss: 0.4033 - acc: 0.8145 - val_loss: 0.9174 - val_acc: 0.5138\n",
      "Epoch 66/80\n",
      "\n",
      "Epoch 00066: val_loss did not improve from 0.68190\n",
      " - 25s - loss: 0.4028 - acc: 0.8170 - val_loss: 0.8809 - val_acc: 0.5216\n",
      "Epoch 67/80\n",
      "\n",
      "Epoch 00067: val_loss did not improve from 0.68190\n",
      " - 25s - loss: 0.3988 - acc: 0.8186 - val_loss: 0.9356 - val_acc: 0.5134\n",
      "Epoch 68/80\n",
      "\n",
      "Epoch 00068: val_loss did not improve from 0.68190\n",
      " - 25s - loss: 0.3993 - acc: 0.8179 - val_loss: 0.9561 - val_acc: 0.5122\n",
      "Epoch 69/80\n",
      "\n",
      "Epoch 00069: val_loss did not improve from 0.68190\n",
      " - 25s - loss: 0.3976 - acc: 0.8204 - val_loss: 0.8323 - val_acc: 0.5484\n",
      "Epoch 70/80\n",
      "\n",
      "Epoch 00070: val_loss did not improve from 0.68190\n",
      " - 25s - loss: 0.4042 - acc: 0.8177 - val_loss: 0.9078 - val_acc: 0.5076\n",
      "Epoch 71/80\n",
      "\n",
      "Epoch 00071: val_loss did not improve from 0.68190\n",
      " - 25s - loss: 0.3972 - acc: 0.8201 - val_loss: 0.9776 - val_acc: 0.5112\n",
      "Epoch 72/80\n",
      "\n",
      "Epoch 00072: val_loss did not improve from 0.68190\n",
      " - 25s - loss: 0.3946 - acc: 0.8226 - val_loss: 0.9117 - val_acc: 0.5142\n",
      "Epoch 73/80\n",
      "\n",
      "Epoch 00073: val_loss did not improve from 0.68190\n",
      " - 25s - loss: 0.3885 - acc: 0.8239 - val_loss: 0.9155 - val_acc: 0.5172\n",
      "Epoch 74/80\n",
      "\n",
      "Epoch 00074: val_loss did not improve from 0.68190\n",
      " - 25s - loss: 0.3858 - acc: 0.8234 - val_loss: 0.9441 - val_acc: 0.5100\n",
      "Epoch 75/80\n",
      "\n",
      "Epoch 00075: val_loss did not improve from 0.68190\n",
      " - 25s - loss: 0.3897 - acc: 0.8222 - val_loss: 0.7805 - val_acc: 0.5456\n",
      "Epoch 76/80\n",
      "\n",
      "Epoch 00076: val_loss did not improve from 0.68190\n",
      " - 25s - loss: 0.3839 - acc: 0.8271 - val_loss: 0.9072 - val_acc: 0.5124\n",
      "Epoch 77/80\n",
      "\n",
      "Epoch 00077: val_loss did not improve from 0.68190\n",
      " - 25s - loss: 0.3831 - acc: 0.8268 - val_loss: 0.7989 - val_acc: 0.5620\n",
      "Epoch 78/80\n",
      "\n",
      "Epoch 00078: val_loss did not improve from 0.68190\n",
      " - 25s - loss: 0.3794 - acc: 0.8298 - val_loss: 0.8164 - val_acc: 0.5442\n",
      "Epoch 79/80\n",
      "\n",
      "Epoch 00079: val_loss did not improve from 0.68190\n",
      " - 25s - loss: 0.3806 - acc: 0.8289 - val_loss: 0.9353 - val_acc: 0.5066\n",
      "Epoch 80/80\n",
      "\n",
      "Epoch 00080: val_loss did not improve from 0.68190\n",
      " - 25s - loss: 0.3761 - acc: 0.8323 - val_loss: 1.0035 - val_acc: 0.5132\n"
     ]
    }
   ],
   "source": [
    "# Save the checkpoint in the /output folder\n",
    "filepath = \"cat_dog_best_reg3_v3\"\n",
    "\n",
    "# Keep only a single checkpoint, the best over test accuracy.\n",
    "checkpoint = ModelCheckpoint(filepath,\n",
    "                            monitor='val_loss',\n",
    "                            verbose=1,\n",
    "                            save_best_only=True,\n",
    "                            mode='min')\n",
    "\n",
    "\n",
    "\n",
    "history = model.fit_generator(datagen.flow(train_data, train_labels, batch_size=batch_size),\n",
    "                    steps_per_epoch=len(train_data) / batch_size, epochs=epochs, verbose=2, \n",
    "                    validation_data=(val_data, val_labels),\n",
    "                   callbacks=[checkpoint])\n",
    "\n",
    "\n",
    "# history = model.fit(x=train_data, y=train_labels, batch_size=batch_size,\n",
    "#                     epochs=epochs, verbose=2, validation_data=(val_data, val_labels),\n",
    "#                    callbacks=[checkpoint])"
   ]
  },
  {
   "cell_type": "markdown",
   "metadata": {
    "_uuid": "04e4a762c0cddf18c7e6b86a73530e78ab84d494"
   },
   "source": [
    "# Visualize the accuracy gain\n",
    "Let's plot the run history, and see if the model converge. In the first run we reached loss of 0.4122, we can do better."
   ]
  },
  {
   "cell_type": "code",
   "execution_count": null,
   "metadata": {
    "_uuid": "b4c64ddb69554fe02fd553bd8e4a28cfb29f7f2f"
   },
   "outputs": [],
   "source": [
    "fig, ax = plt.subplots(2,1)\n",
    "# Loss Plot\n",
    "ax[0].plot(history.history['loss'], color='b', label=\"Training Loss\")\n",
    "ax[0].plot(history.history['val_loss'], color='r', label='Validation Loss')\n",
    "\n",
    "legend = ax[0].legend(loc='best', shadow=True)\n",
    "\n",
    "# Accuracy Plot\n",
    "ax[1].plot(history.history['acc'], color='b', label='Training Accuracy')\n",
    "ax[1].plot(history.history['val_acc'], color='r', label='Validation Accuracy')\n",
    "legend = ax[1].legend(loc='best', shadow=True)"
   ]
  },
  {
   "cell_type": "markdown",
   "metadata": {
    "_uuid": "269624c15cf46d92f0524d2e217588d930b23c72"
   },
   "source": [
    "# Fitting the test data"
   ]
  },
  {
   "cell_type": "code",
   "execution_count": null,
   "metadata": {
    "_uuid": "6ee71248ffdc55530b266efbac234c6e87bd15b5"
   },
   "outputs": [],
   "source": [
    "print(\"Loading Test Images...\")\n",
    "test_data, _ = load_image_list(test_image_list, False)\n",
    "test_data = test_data / 255.0\n",
    "\n",
    "print (\"Test data shape: {}\".format(test_data.shape))"
   ]
  },
  {
   "cell_type": "code",
   "execution_count": null,
   "metadata": {
    "_uuid": "86126091952802279d7781ecf3c36a9033ec9cb4"
   },
   "outputs": [],
   "source": [
    "test_predictions = model.predict(test_data, verbose=1)"
   ]
  },
  {
   "cell_type": "code",
   "execution_count": null,
   "metadata": {
    "_uuid": "e6dfc1d8be4f514a24d9443693d99d5975765002"
   },
   "outputs": [],
   "source": [
    "print (\"Test prediction shape: {}\".format(test_predictions.shape))\n",
    "with open('submission_file.csv','w') as f:\n",
    "    f.write('id,label\\n')\n",
    "\n",
    "print(\"Saving the prediction results...\")\n",
    "with open('submission_file.csv','a') as f:\n",
    "    for i, prediction in tqdm(enumerate(test_predictions)):\n",
    "        f.write('{},{}\\n'.format(i+1,prediction[0]))"
   ]
  }
 ],
 "metadata": {
  "kernelspec": {
   "display_name": "Python 3",
   "language": "python",
   "name": "python3"
  },
  "language_info": {
   "codemirror_mode": {
    "name": "ipython",
    "version": 3
   },
   "file_extension": ".py",
   "mimetype": "text/x-python",
   "name": "python",
   "nbconvert_exporter": "python",
   "pygments_lexer": "ipython3",
   "version": "3.6.4"
  }
 },
 "nbformat": 4,
 "nbformat_minor": 1
}
